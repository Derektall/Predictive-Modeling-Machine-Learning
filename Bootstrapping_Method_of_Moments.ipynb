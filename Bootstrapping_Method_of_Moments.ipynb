{
 "cells": [
  {
   "cell_type": "markdown",
   "metadata": {},
   "source": [
    "## Importing Data Set"
   ]
  },
  {
   "cell_type": "code",
   "execution_count": 204,
   "metadata": {},
   "outputs": [],
   "source": [
    "\n",
    "import os\n",
    "os.chdir(\"C:\\\\Users\\\\derek\\\\Downloads\") "
   ]
  },
  {
   "cell_type": "code",
   "execution_count": 408,
   "metadata": {},
   "outputs": [],
   "source": [
    "from __future__ import print_function\n",
    "import numpy as np\n",
    "import pandas as pd\n",
    "import matplotlib.pyplot as plt\n",
    "import random as rd\n",
    "import hashlib\n",
    "import statsmodels.api as sm\n",
    "from scipy.stats import beta\n",
    "from statsmodels.base.model import GenericLikelihoodModel\n",
    "import math\n",
    "import numpy as np\n",
    "from scipy.optimize import minimize\n",
    "import scipy.stats as stats\n",
    "import time\n",
    "import random\n",
    "\n",
    "\n"
   ]
  },
  {
   "cell_type": "code",
   "execution_count": 4,
   "metadata": {},
   "outputs": [
    {
     "data": {
      "text/plain": [
       "'c37d47d82beb19f7ee5edd077cf7cb16'"
      ]
     },
     "execution_count": 4,
     "metadata": {},
     "output_type": "execute_result"
    }
   ],
   "source": [
    "hashlib.md5(\"drt140030\".encode('utf-8')).hexdigest()"
   ]
  },
  {
   "cell_type": "code",
   "execution_count": 257,
   "metadata": {},
   "outputs": [],
   "source": [
    "df = pd.read_csv('Exam_2_Data.csv',header=None,na_values=\" NaN\")\n",
    "df = df.to_numpy()\n"
   ]
  },
  {
   "cell_type": "markdown",
   "metadata": {},
   "source": [
    "## Generating Dataset to Test Estimation Methods"
   ]
  },
  {
   "cell_type": "code",
   "execution_count": 267,
   "metadata": {},
   "outputs": [
    {
     "data": {
      "text/plain": [
       "array([-2.15075165, -4.56172188, -3.80414137, -4.3986439 , -6.46589753,\n",
       "       -4.67422188, -3.15968417, -2.32780881, -8.25128157, -4.12453886,\n",
       "        1.06270015,  4.40320127, -3.19243695,  2.31614367, -3.69356965,\n",
       "       -5.69175174, -7.16606102, -7.93158943, -2.11592391, -1.53683383,\n",
       "        5.51549869,  2.22402431, -5.24704816,  1.94670763,  0.89956168,\n",
       "       -6.86711487, -0.70759478, -5.45348505, -0.58904293, -7.81747395,\n",
       "       -1.03829867, -7.06154784, -4.76229631, -6.11318618, -1.49225194,\n",
       "       -3.63516831, -3.13554837, -1.03250208, -8.40110321,  2.08644753,\n",
       "       -1.87238539, -3.15501186, -1.10764386, -1.68032022, -5.5439711 ,\n",
       "       -4.19020413, -5.21593898,  6.05575732, -2.2739713 , -1.42360781,\n",
       "        4.36875522, -4.45158969, -1.97805824, -4.57901002, -6.44655609,\n",
       "       -0.1035213 , -3.00541909,  1.12885513,  0.16706776,  5.93228137,\n",
       "        6.79800065,  0.68623492, -0.45667583, -9.0400124 , -6.10309289,\n",
       "        0.82889401, -0.12504409, -5.31757359,  1.49975114, -2.34986512,\n",
       "       -3.10745148,  2.21542126, -3.63048173,  5.18252045, -2.8359077 ,\n",
       "       -4.36654826,  3.03506665,  3.29669734, -5.17848837, -3.16311066,\n",
       "       -2.34346927, -7.1378074 , -6.44098981, -3.11434097, -2.8326629 ,\n",
       "       -5.30341357, -5.25699251,  2.38912985, -0.7627609 , -1.57599984,\n",
       "        0.63378677, -6.08552022, -0.59387546,  0.62255027, -5.3875103 ,\n",
       "        4.13546967, -6.39625454, -1.14146405, -2.09216398,  5.01608716,\n",
       "        0.31983407, -2.20636075, -0.99225696,  0.44227681, -3.74762726,\n",
       "       -2.72361949,  2.17649058, -2.24511493, -7.80972759, -0.65522593,\n",
       "        2.9705122 , -6.28453399,  1.62950133, -5.09857539, -5.75081661,\n",
       "        2.84049011,  4.10073985, -0.8033165 ,  4.12940104, -1.13768159,\n",
       "       -1.15678929, -1.94632811,  2.25993263, -2.89125737, -2.99912524,\n",
       "        0.53011574, -0.33946579, -2.76496729,  0.34868529, -3.6527328 ,\n",
       "       -1.57903215, -7.47577362, -1.95871216, -7.56055081,  0.30190591,\n",
       "       -7.97194197,  3.20332978, -9.47406711, -6.55434549,  2.51294319,\n",
       "       -3.01703549, -6.40264741, -4.3592928 , -0.92828147, -7.34398075,\n",
       "       -5.19818421, -0.4499529 , -5.70931873, -2.65197644,  5.7062261 ,\n",
       "        0.2708195 , -6.46968015, -4.93208421,  1.49109874,  0.13355177,\n",
       "        1.38957681, -2.11883862, -3.84751243, -5.0300123 , -5.80864368,\n",
       "       -1.66362099, -8.86968807,  4.81983892, -2.09627619, -4.08432432,\n",
       "        1.42024117,  3.0377629 ,  2.94948405,  6.42680772, -6.00090752,\n",
       "        3.64517871, -2.93862501, -4.27837413, -0.0685593 , -1.92061875,\n",
       "        0.26465093, -0.27629922,  7.0558158 ,  0.0671958 , -7.30414771,\n",
       "       -1.09337101, -1.36434023,  2.00137687,  5.17738095, -3.86360324,\n",
       "       -0.16800327, -0.09909415, -0.65335294,  0.22017873, -4.12347623,\n",
       "       -1.30398543, -8.07144446, -8.46016028, -4.19242821, -3.71155062,\n",
       "        4.50558756, -5.62857974, -7.24095412, -5.53264039, -5.16197207])"
      ]
     },
     "execution_count": 267,
     "metadata": {},
     "output_type": "execute_result"
    }
   ],
   "source": [
    "##I chose to generate a random dataset using a beta distribution, as a beta distribution is very similar to a kuramaswamy distribution\n",
    "#used to create the exam dataset. The complication here is that the exam distribution does not have the standard upper and lower \n",
    "#bounds for a kuramaswamy/beta distribution (0,1). I change the bounds to be 10,-10 instead of 0,1 by forcing the loc to be 10\n",
    "# and the scale to be 20 (scale is 10+-10 which is 20).\n",
    "a = 2\n",
    "b = 3\n",
    "x = beta.rvs(a, b, loc=-10, scale=20, size=200)\n",
    "x\n"
   ]
  },
  {
   "cell_type": "markdown",
   "metadata": {},
   "source": [
    "## Method Testing on Upper/Lower Bounds On Generated Data Set"
   ]
  },
  {
   "cell_type": "code",
   "execution_count": 271,
   "metadata": {},
   "outputs": [
    {
     "data": {
      "text/plain": [
       "-9.474067106541057"
      ]
     },
     "execution_count": 271,
     "metadata": {},
     "output_type": "execute_result"
    }
   ],
   "source": [
    "##The first thing I want to do is get a very rough estimate for the bounds using np.min and np.max.\n",
    "lbe = np.min(x) #rough estimate is -9.4740, which is close but not super accurate to the true lower bound (-10)\n",
    "ube = np.max(x) #rough estimate is 7.0558, which is not very close to the true upper bound (10)\n",
    "\n",
    "#np.min and np.max don't seem to be giving very accurate estimates"
   ]
  },
  {
   "cell_type": "code",
   "execution_count": 424,
   "metadata": {
    "scrolled": true
   },
   "outputs": [
    {
     "data": {
      "text/plain": [
       "18.367123263084288"
      ]
     },
     "execution_count": 424,
     "metadata": {},
     "output_type": "execute_result"
    }
   ],
   "source": [
    "#I then use beta.fit in order to estimate the bounds. Beta.fit returns alpha,beta,loc,and scale. The lower bound is equal\n",
    "#to loc, and the upper bound is equal to loc+scale (because scale is upper bound - lower bound).\n",
    "\n",
    "a1,b1,loc1,scale1 = beta.fit(x)\n",
    "loc1 #Lbe = -9.7761, which is quite close to the true value of -10\n",
    "scale1 #Ube = 8.591 (18.3671 + -9.7761) which is also fairly close to the true upper bound of 10"
   ]
  },
  {
   "cell_type": "code",
   "execution_count": null,
   "metadata": {},
   "outputs": [],
   "source": []
  },
  {
   "cell_type": "markdown",
   "metadata": {},
   "source": [
    "## Bootstrapping to Find Confidence Interval for LB/UB of Generated Data Set"
   ]
  },
  {
   "cell_type": "code",
   "execution_count": 274,
   "metadata": {},
   "outputs": [],
   "source": [
    "# I then had to find a way to get more accurate bound estimators. I decided to use a bootstrapping function to provide a 95% confidence interval\n",
    "# which would give me a range that should be more accurate with the dataset. I chose to find the 95% confidence interval of np.min and np.max.\n",
    "#Although those estimates would be rough, I figured that the confidence interval would at least give a more accurate picture as to\n",
    "#where the upper and lower bounds would be.\n"
   ]
  },
  {
   "cell_type": "code",
   "execution_count": 42,
   "metadata": {},
   "outputs": [],
   "source": [
    "def bootstrap(data, n=1000, func=np.mean):\n",
    "    simulations = list()\n",
    "    sample_size = len(data)\n",
    "    xbar_init = np.mean(data)\n",
    "    for c in range(n):\n",
    "        itersample = np.random.choice(data, size=sample_size, replace=True)\n",
    "        simulations.append(func(itersample))\n",
    "    simulations.sort()\n",
    "    def ci(p):\n",
    "        u_pval = (1+p)/2.\n",
    "        l_pval = (1-u_pval)\n",
    "        l_indx = int(np.floor(n*l_pval))\n",
    "        u_indx = int(np.floor(n*u_pval))\n",
    "        return(simulations[l_indx],simulations[u_indx])\n",
    "    return(ci)\n"
   ]
  },
  {
   "cell_type": "code",
   "execution_count": 45,
   "metadata": {},
   "outputs": [
    {
     "name": "stdout",
     "output_type": "stream",
     "text": [
      "[(-9.411814375028051, -8.688876883758637)]\n"
     ]
    }
   ],
   "source": [
    "boot = bootstrap(x, n=100000, func=np.min)\n",
    "cintervals = [boot(.95)]\n",
    "print(cintervals) #The 95% confidence interval for the lower bound is between -9.4118 and -8.6888"
   ]
  },
  {
   "cell_type": "code",
   "execution_count": 46,
   "metadata": {},
   "outputs": [
    {
     "name": "stdout",
     "output_type": "stream",
     "text": [
      "[(6.45693101734307, 7.301121057992798)]\n"
     ]
    }
   ],
   "source": [
    "boot = bootstrap(x, n=100000, func=np.max)\n",
    "cintervals = [boot(.95)]\n",
    "print(cintervals) #The 95% confidence interval for the upper bound is between 6.4569 and 7.3011"
   ]
  },
  {
   "cell_type": "markdown",
   "metadata": {},
   "source": [
    "## Testing Beta Fit Method on Test Data Set"
   ]
  },
  {
   "cell_type": "code",
   "execution_count": 48,
   "metadata": {},
   "outputs": [
    {
     "name": "stderr",
     "output_type": "stream",
     "text": [
      "C:\\Users\\derek\\Anaconda3\\lib\\site-packages\\scipy\\stats\\_continuous_distns.py:515: RuntimeWarning: invalid value encountered in sqrt\n",
      "  sk = 2*(b-a)*np.sqrt(a + b + 1) / (a + b + 2) / np.sqrt(a*b)\n",
      "C:\\Users\\derek\\Anaconda3\\lib\\site-packages\\scipy\\optimize\\minpack.py:162: RuntimeWarning: The iteration is not making good progress, as measured by the \n",
      "  improvement from the last ten iterations.\n",
      "  warnings.warn(msg, RuntimeWarning)\n"
     ]
    }
   ],
   "source": [
    "a1,b1,loc1,scale1 = beta.fit(df)"
   ]
  },
  {
   "cell_type": "code",
   "execution_count": 49,
   "metadata": {},
   "outputs": [
    {
     "data": {
      "text/plain": [
       "-175.38170956694032"
      ]
     },
     "execution_count": 49,
     "metadata": {},
     "output_type": "execute_result"
    }
   ],
   "source": [
    "loc1 #The estimated lower bound of the Exam Dataset is -175.3817\n"
   ]
  },
  {
   "cell_type": "code",
   "execution_count": 51,
   "metadata": {},
   "outputs": [
    {
     "data": {
      "text/plain": [
       "10.46099494694036"
      ]
     },
     "execution_count": 51,
     "metadata": {},
     "output_type": "execute_result"
    }
   ],
   "source": [
    "scale1-175.3817 #The estimated upper bound of the Exam Dataset is 10.4609"
   ]
  },
  {
   "cell_type": "markdown",
   "metadata": {},
   "source": [
    "## Bootstrapping for Exam Upper Bound/Lower Bound Confidence Interval"
   ]
  },
  {
   "cell_type": "code",
   "execution_count": 53,
   "metadata": {},
   "outputs": [
    {
     "name": "stdout",
     "output_type": "stream",
     "text": [
      "[(-6.932932739, -6.769042552)]\n"
     ]
    }
   ],
   "source": [
    "df = df.reshape(200) #I changed the df from (1,200) to (200,) so that the numpy function would work\n",
    "boot = bootstrap(df, n=100000, func=np.min)\n",
    "cintervals = [boot(.95)]\n",
    "print(cintervals) #The 95% confidence interval for the np.min is between -6.9329 and -6.7690"
   ]
  },
  {
   "cell_type": "code",
   "execution_count": 54,
   "metadata": {},
   "outputs": [
    {
     "name": "stdout",
     "output_type": "stream",
     "text": [
      "[(6.45693101734307, 7.301121057992798)]\n"
     ]
    }
   ],
   "source": [
    "boot = bootstrap(x, n=100000, func=np.max)\n",
    "cintervals = [boot(.95)]\n",
    "print(cintervals) #the 95% confidence interval for the np.max is between 6.4569 and 7.3011"
   ]
  },
  {
   "cell_type": "markdown",
   "metadata": {},
   "source": [
    "## Using Generalized Method of Moments to Estimate A and B parameters on Generated Data Set"
   ]
  },
  {
   "cell_type": "code",
   "execution_count": 174,
   "metadata": {},
   "outputs": [],
   "source": [
    "#I wanted to use the Generalized Method of Moments to estimate the alpha and beta parameters. I calculate a rough estimate of \n",
    "#mu and sigma using np.mean and np.var to plug into the equations found below.\n",
    "a = 2\n",
    "b = 3\n",
    "x = beta.rvs(a, b, loc=-10, scale=20, size=200)\n",
    "\n",
    "\n",
    "\n",
    "\n"
   ]
  },
  {
   "cell_type": "code",
   "execution_count": 155,
   "metadata": {},
   "outputs": [
    {
     "data": {
      "text/plain": [
       "14.736826301843603"
      ]
     },
     "execution_count": 155,
     "metadata": {},
     "output_type": "execute_result"
    }
   ],
   "source": [
    "np.mean(x) #value of mu is -1.7896\n",
    "np.var(x) #value of sigma^2 is 14.7368"
   ]
  },
  {
   "cell_type": "code",
   "execution_count": 198,
   "metadata": {},
   "outputs": [
    {
     "data": {
      "text/plain": [
       "2.395848513865697"
      ]
     },
     "execution_count": 198,
     "metadata": {},
     "output_type": "execute_result"
    }
   ],
   "source": [
    "# Using the Generalized Method of Moments equation to find mu and sigma^2 using alpha and beta, I rearranged and found equations to find alpha and beta:\n",
    "# A = mu(mu(1-mu)/sigma^2-1)\n",
    "# B = A(1-mu/mu)\n",
    "\n",
    "A = -1.7896*(((-1.7896*2.7896)/14.7368)-1) #A estimate is 2.3958. This is fairly close to the true A value (2)\n",
    "B = 2.3958*(2.7896/-1.7896) #B estimate is -3.7345, which is close to the expected value of B (3)\n",
    "A"
   ]
  },
  {
   "cell_type": "markdown",
   "metadata": {},
   "source": [
    "## Bootstrapping to get CI for A and B parameters in Generated Dataset"
   ]
  },
  {
   "cell_type": "code",
   "execution_count": 167,
   "metadata": {},
   "outputs": [],
   "source": [
    "##After calculating A and B using the Generalized Method of Moments, I wanted to provide a 95% confidence interval for \n",
    "#both A and B. To do this, I will use a bootstrap to estimate a 95% confidence interval of mu and sigma. I will then use those\n",
    "# estimates to calculate A and B, with the idea that the lower values of mu and sigma can be used to calculate the lower value\n",
    "# of A and B "
   ]
  },
  {
   "cell_type": "code",
   "execution_count": 188,
   "metadata": {},
   "outputs": [],
   "source": [
    "a = 2\n",
    "b = 3\n",
    "x = beta.rvs(a, b, loc=-10, scale=20, size=200)"
   ]
  },
  {
   "cell_type": "code",
   "execution_count": 41,
   "metadata": {},
   "outputs": [
    {
     "name": "stdout",
     "output_type": "stream",
     "text": [
      "[(-2.110966504660959, -0.9495207737157852)]\n"
     ]
    }
   ],
   "source": [
    "boot = bootstrap(x, n=10000)\n",
    "cintervals = [boot(.95)]\n",
    "print(cintervals)\n",
    "\n",
    "#The 95% confidence interval for mu is between -2.1109 and -.94"
   ]
  },
  {
   "cell_type": "code",
   "execution_count": 350,
   "metadata": {},
   "outputs": [
    {
     "name": "stdout",
     "output_type": "stream",
     "text": [
      "[(11.633814258165831, 16.250112129093214)]\n"
     ]
    }
   ],
   "source": [
    "boot = bootstrap(x, n=10000, func=np.var)\n",
    "cintervals = [boot(.95)]\n",
    "print(cintervals)\n",
    "\n",
    "#The 95% confidence interval for sigma is between 13.884 and 19.548"
   ]
  },
  {
   "cell_type": "code",
   "execution_count": 203,
   "metadata": {},
   "outputs": [
    {
     "name": "stdout",
     "output_type": "stream",
     "text": [
      "3.836506842408528 1.4531668796296295\n",
      "-5.428408713692947 -2.5999823993685873\n"
     ]
    }
   ],
   "source": [
    "#I test the same equations using both the lower values of mu and sigma and the higher values of mu and sigma found \n",
    "# A = mu(mu(1-mu)/sigma^2-1)\n",
    "# B = A(1-mu/mu)\n",
    "\n",
    "A = -2.410*(((-2.410*3.410)/13.884)-1)\n",
    "A2 = -1.267*(((-1.267*2.267)/19.5480)-1)\n",
    "print(A,A2) #95% confidence interval for A of the generated dataset is 3.8365, 1.4531 (true value a=2 falls within CI)\n",
    "B = 3.8365*(3.410/-2.410)\n",
    "B2 = 1.4531*(2.267/-1.267)\n",
    "print(B,B2) #95% confidence interval for |B| of the generated dataset is 5.4284, 2.5999 (true value b=3 falls within CI)"
   ]
  },
  {
   "cell_type": "markdown",
   "metadata": {},
   "source": [
    "## Using Generalized Method of Moments to Estimate A and B of Test Dataset"
   ]
  },
  {
   "cell_type": "code",
   "execution_count": 58,
   "metadata": {},
   "outputs": [
    {
     "data": {
      "text/plain": [
       "7.19804159584956"
      ]
     },
     "execution_count": 58,
     "metadata": {},
     "output_type": "execute_result"
    }
   ],
   "source": [
    "df= np.asarray(df)\n",
    "np.mean(df) #mean is 9.9884\n",
    "np.var(df) #var is 7.1980"
   ]
  },
  {
   "cell_type": "code",
   "execution_count": 60,
   "metadata": {},
   "outputs": [
    {
     "data": {
      "text/plain": [
       "-144.68472098727074"
      ]
     },
     "execution_count": 60,
     "metadata": {},
     "output_type": "execute_result"
    }
   ],
   "source": [
    "# A = mu(mu(1-mu)/sigma^2-1)\n",
    "# B = A(1-mu/mu)\n",
    "\n",
    "A = 9.9884*((9.9884*-8.9884)/(7.1980-1)) #Alpha estimate is -144.6847\n",
    "B = -144.6847*(-8.9884/9.9884) #Beta estimate is 130.1994\n"
   ]
  },
  {
   "cell_type": "markdown",
   "metadata": {},
   "source": [
    "## Bootstrapping to get A and B Estimates of Exam Dataset"
   ]
  },
  {
   "cell_type": "code",
   "execution_count": 63,
   "metadata": {},
   "outputs": [
    {
     "name": "stdout",
     "output_type": "stream",
     "text": [
      "[(9.563441337675, 10.3314102479)]\n"
     ]
    }
   ],
   "source": [
    "#I now use the same bootstrapping method that I used in finding the bounds in order to find a 95% confidence interval for mu and sigma to plug\n",
    "#in the new values of mu and sigma into the previous equation which will provide a 95% confidence interval for the alpha and beta values themselves.\n",
    "# of alpha and beta estimates.\n",
    "\n",
    "df = df.reshape(200) #I needed to reshape the data frame to a 1-D array in order for the bootstrap function to work.\n",
    "\n",
    "boot = bootstrap(df,n=100000,func=np.mean)\n",
    "cintervals = [boot(.95)]\n",
    "print(cintervals) #95% confidence interval for the mean is between 9.5634 and 10.3314"
   ]
  },
  {
   "cell_type": "code",
   "execution_count": 64,
   "metadata": {},
   "outputs": [
    {
     "name": "stdout",
     "output_type": "stream",
     "text": [
      "[(1.4962011249403326, 13.932095861736878)]\n"
     ]
    }
   ],
   "source": [
    "boot = bootstrap(df,n=100000,func=np.var)\n",
    "cintervals = [boot(.95)]\n",
    "print(cintervals) #95% confidence interval for the variance is between 1.4962 and 13.9320"
   ]
  },
  {
   "cell_type": "code",
   "execution_count": 68,
   "metadata": {},
   "outputs": [],
   "source": [
    "#Lower Bounds of Confidence intervals for A and B estimates\n",
    "# A = mu(mu(1-mu)/sigma^2-1)\n",
    "# B = A(1-mu/mu)\n",
    "\n",
    "A = 9.5634*((9.5634*-8.5634)/(1.4962-1)) #Alpha estimate is -1578.3892\n",
    "B = -1578.3892*(-8.5634/9.5634) #Beta estimate is 1413.3444\n"
   ]
  },
  {
   "cell_type": "code",
   "execution_count": 70,
   "metadata": {},
   "outputs": [
    {
     "data": {
      "text/plain": [
       "69.56346826198912"
      ]
     },
     "execution_count": 70,
     "metadata": {},
     "output_type": "execute_result"
    }
   ],
   "source": [
    "#Higher Bounds of Confidence Intervals for A and B estimates\n",
    "A = 10.3314*((10.3314*-9.3314)/(13.9320-1)) #Alpha estimate is -77.0192\n",
    "B = -77.0192*(-9.3302/10.3302) #Beta estimate is 69.5634\n",
    "B\n",
    "#The 95% confidence intervals for the Exam Dataset's Alpha and Beta parameters would be:\n",
    "#Alpha CI = (-1578.3892,-77.0192)\n",
    "#Beta CI = (1413.3444, 69.5634)"
   ]
  },
  {
   "cell_type": "markdown",
   "metadata": {},
   "source": [
    "## Final Answers"
   ]
  },
  {
   "cell_type": "markdown",
   "metadata": {},
   "source": [
    "Upper Bound Estimate = 10.4609\n",
    "Lower Bound Estimate = -175.3817\n",
    "Upper Bound 95% Confidence Interval = (6.4569,7.3011)\n",
    "Lower Bound 95% Confidence Interval = (-9.4118,-8.6888)"
   ]
  },
  {
   "cell_type": "markdown",
   "metadata": {},
   "source": [
    "A Estimate = -144.6847\n",
    "B Estimate = 130.1994\n",
    "A Estimate 95% Confidence Interval = (-1578.3892,-77.0192)\n",
    "B Estimate 95% Confidence Interval = (69.5634,1413.3444)"
   ]
  }
 ],
 "metadata": {
  "kernelspec": {
   "display_name": "Python 3",
   "language": "python",
   "name": "python3"
  },
  "language_info": {
   "codemirror_mode": {
    "name": "ipython",
    "version": 3
   },
   "file_extension": ".py",
   "mimetype": "text/x-python",
   "name": "python",
   "nbconvert_exporter": "python",
   "pygments_lexer": "ipython3",
   "version": "3.7.7"
  },
  "toc": {
   "base_numbering": 1,
   "nav_menu": {},
   "number_sections": true,
   "sideBar": true,
   "skip_h1_title": false,
   "title_cell": "Table of Contents",
   "title_sidebar": "Contents",
   "toc_cell": false,
   "toc_position": {},
   "toc_section_display": true,
   "toc_window_display": false
  }
 },
 "nbformat": 4,
 "nbformat_minor": 2
}
