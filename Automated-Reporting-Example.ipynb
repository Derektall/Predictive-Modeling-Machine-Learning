{
 "cells": [
  {
   "cell_type": "code",
   "execution_count": 75,
   "metadata": {},
   "outputs": [],
   "source": [
    "import pandas as pd\n",
    "import os\n",
    "import glob\n",
    "from shutil import copyfile\n",
    "import datetime\n",
    "from pathlib import Path\n",
    "import win32com.client\n",
    "import time\n",
    "import smtplib\n",
    "from email.mime.multipart import MIMEMultipart\n",
    "from email.mime.text import MIMEText\n",
    "import schedule\n",
    "import time\n"
   ]
  },
  {
   "cell_type": "code",
   "execution_count": 4,
   "metadata": {},
   "outputs": [],
   "source": [
    "os.chdir(r'C:\\Users\\Zoidb\\OneDrive\\Documents\\Automation')"
   ]
  },
  {
   "cell_type": "code",
   "execution_count": 6,
   "metadata": {},
   "outputs": [],
   "source": [
    "df = pd.read_excel(r'C:\\Users\\Zoidb\\OneDrive\\Documents\\Automation\\Financial Sample.xlsx')"
   ]
  },
  {
   "cell_type": "code",
   "execution_count": 8,
   "metadata": {},
   "outputs": [],
   "source": [
    "file_name = r'C:\\Users\\Zoidb\\OneDrive\\Documents\\Automation\\newest_raw_data.csv'\n",
    "df.to_csv(file_name, sep = '|', index = False)"
   ]
  },
  {
   "cell_type": "code",
   "execution_count": 57,
   "metadata": {},
   "outputs": [
    {
     "data": {
      "text/plain": [
       "'Financial Sample Week 3.xlsx'"
      ]
     },
     "execution_count": 57,
     "metadata": {},
     "output_type": "execute_result"
    }
   ],
   "source": [
    "##Finding most recently uploaded file from a folder\n",
    "\n",
    "list_of_reports = glob.glob(r'C:\\Users\\Zoidb\\OneDrive\\Documents\\Automation\\Weekly Reports\\*')\n",
    "latest_file = max(list_of_reports, key = os.path.getctime)\n",
    "latest_file = os.path.basename(latest_file)\n",
    "\n",
    "latest_file"
   ]
  },
  {
   "cell_type": "code",
   "execution_count": 66,
   "metadata": {},
   "outputs": [
    {
     "data": {
      "text/plain": [
       "WindowsPath('C:/Users/Zoidb/OneDrive/Documents/Automation/Weekly Reports/20200928_latest_periodic_report.xlsx')"
      ]
     },
     "execution_count": 66,
     "metadata": {},
     "output_type": "execute_result"
    }
   ],
   "source": [
    "## Creating a copy of the latest file and saving it to folder\n",
    "\n",
    "today_date = datetime.datetime.today().strftime('%Y%m%d')\n",
    "src = Path('C:/Users/Zoidb/OneDrive/Documents/Automation/Weekly Reports') / latest_file\n",
    "new_file = today_date + '_latest_periodic_report.xlsx'\n",
    "dst = Path('C:/Users/Zoidb/OneDrive/Documents/Automation/Weekly Reports') / new_file\n",
    "copyfile(src,dst)\n"
   ]
  },
  {
   "cell_type": "code",
   "execution_count": 72,
   "metadata": {},
   "outputs": [],
   "source": [
    "## Opening the new file in excel and refreshing when a new latest file is created\n",
    "\n",
    "SourcePathName = Path('C:/Users/Zoidb/OneDrive/Documents/Automation/Weekly Reports') / new_file\n",
    "Application = win32com.client.DispatchEx('Excel.Application')\n",
    "Application.DisplayAlerts = False\n",
    "Application.Visible = 1\n",
    "Workbook = Application.Workbooks.Open(SourcePathName)\n",
    "Workbook.RefreshAll()\n",
    "time.sleep(20)\n",
    "Workbook.Save()\n",
    "Workbook.Close()\n",
    "Application.Quit()"
   ]
  },
  {
   "cell_type": "code",
   "execution_count": 70,
   "metadata": {},
   "outputs": [
    {
     "data": {
      "text/plain": [
       "WindowsPath('C:/Users/Zoidb/OneDrive/Documents/Automation/Weekly Reports/20200928_latest_periodic_report.xlsx')"
      ]
     },
     "execution_count": 70,
     "metadata": {},
     "output_type": "execute_result"
    }
   ],
   "source": [
    "##Automating an email being sent went the latest report is created\n",
    "\n",
    "fromaddr = 'johndoe@company.com'\n",
    "toaddr = 'janedoe@company.com'\n",
    "body = 'The latest analysis report has been updated and saved in ABC location'\n",
    "\n",
    "msg = MIMEMultipart()\n",
    "msg['From'] = fromaddr\n",
    "msg['To'] = toaddr\n",
    "msg['Subject'] = 'Periodic Analysis Report'\n",
    "msg.attach(MIMEText(body, 'plain'))\n",
    "\n",
    "server = smtplib.SMTP('smtp-name', 'port-number-without-quotes')\n",
    "server.starttls()\n",
    "server.login(fromaddr, 'password')\n",
    "text = msg.as_string()\n",
    "server.sendmail(fromaddr, toaddr, text)\n",
    "server.quit()\n"
   ]
  },
  {
   "cell_type": "code",
   "execution_count": null,
   "metadata": {},
   "outputs": [],
   "source": [
    "## Scheduling this code to run at a certain time, Monday at 9:00am for example"
   ]
  },
  {
   "cell_type": "code",
   "execution_count": 77,
   "metadata": {},
   "outputs": [
    {
     "ename": "KeyboardInterrupt",
     "evalue": "",
     "output_type": "error",
     "traceback": [
      "\u001b[1;31m---------------------------------------------------------------------------\u001b[0m",
      "\u001b[1;31mKeyboardInterrupt\u001b[0m                         Traceback (most recent call last)",
      "\u001b[1;32m<ipython-input-77-a2b117268251>\u001b[0m in \u001b[0;36m<module>\u001b[1;34m\u001b[0m\n\u001b[0;32m     24\u001b[0m \u001b[1;32mwhile\u001b[0m \u001b[1;32mTrue\u001b[0m\u001b[1;33m:\u001b[0m\u001b[1;33m\u001b[0m\u001b[1;33m\u001b[0m\u001b[0m\n\u001b[0;32m     25\u001b[0m     \u001b[0mschedule\u001b[0m\u001b[1;33m.\u001b[0m\u001b[0mrun_pending\u001b[0m\u001b[1;33m(\u001b[0m\u001b[1;33m)\u001b[0m\u001b[1;33m\u001b[0m\u001b[1;33m\u001b[0m\u001b[0m\n\u001b[1;32m---> 26\u001b[1;33m     \u001b[0mtime\u001b[0m\u001b[1;33m.\u001b[0m\u001b[0msleep\u001b[0m\u001b[1;33m(\u001b[0m\u001b[1;36m1\u001b[0m\u001b[1;33m)\u001b[0m\u001b[1;33m\u001b[0m\u001b[1;33m\u001b[0m\u001b[0m\n\u001b[0m",
      "\u001b[1;31mKeyboardInterrupt\u001b[0m: "
     ]
    }
   ],
   "source": [
    "def generate_weekly_report():\n",
    "    list_of_reports = glob.glob(r'C:\\Users\\Zoidb\\OneDrive\\Documents\\Automation\\Weekly Reports\\*')\n",
    "    latest_file = max(list_of_reports, key = os.path.getctime)\n",
    "    latest_file = os.path.basename(latest_file)\n",
    "    today_date = datetime.datetime.today().strftime('%Y%m%d')\n",
    "    src = Path('C:/Users/Zoidb/OneDrive/Documents/Automation/Weekly Reports') / latest_file\n",
    "    new_file = today_date + '_latest_periodic_report.xlsx'\n",
    "    dst = Path('C:/Users/Zoidb/OneDrive/Documents/Automation/Weekly Reports') / new_file\n",
    "    copyfile(src,dst)\n",
    "    SourcePathName = Path('C:/Users/Zoidb/OneDrive/Documents/Automation/Weekly Reports') / new_file\n",
    "    Application = win32com.client.DispatchEx('Excel.Application')\n",
    "    Application.DisplayAlerts = False\n",
    "    Application.Visible = 1\n",
    "    Workbook = Application.Workbooks.Open(SourcePathName)\n",
    "    Workbook.RefreshAll()\n",
    "    time.sleep(20)\n",
    "    Workbook.Save()\n",
    "    Workbook.Close()\n",
    "    Application.Quit()\n",
    "    \n",
    "\n",
    "schedule.every().monday.at('11:00').do(generate_weekly_report)\n",
    "\n",
    "while True:\n",
    "    schedule.run_pending()\n",
    "    time.sleep(1)"
   ]
  }
 ],
 "metadata": {
  "kernelspec": {
   "display_name": "Python 3",
   "language": "python",
   "name": "python3"
  },
  "language_info": {
   "codemirror_mode": {
    "name": "ipython",
    "version": 3
   },
   "file_extension": ".py",
   "mimetype": "text/x-python",
   "name": "python",
   "nbconvert_exporter": "python",
   "pygments_lexer": "ipython3",
   "version": "3.7.7"
  },
  "toc": {
   "base_numbering": 1,
   "nav_menu": {},
   "number_sections": true,
   "sideBar": true,
   "skip_h1_title": false,
   "title_cell": "Table of Contents",
   "title_sidebar": "Contents",
   "toc_cell": false,
   "toc_position": {},
   "toc_section_display": true,
   "toc_window_display": false
  }
 },
 "nbformat": 4,
 "nbformat_minor": 4
}
